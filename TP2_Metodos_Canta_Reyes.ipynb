{
  "cells": [
    {
      "cell_type": "code",
      "execution_count": 95,
      "metadata": {
        "id": "guBKTtm8kJuA"
      },
      "outputs": [],
      "source": [
        "import numpy as np\n",
        "import pandas as pd\n",
        "import matplotlib.pyplot as plt"
      ]
    },
    {
      "attachments": {},
      "cell_type": "markdown",
      "metadata": {
        "id": "I8wt5rgqowe0"
      },
      "source": [
        "## Iniciamos con la lectura de los datos"
      ]
    },
    {
      "cell_type": "code",
      "execution_count": 96,
      "metadata": {
        "id": "TWQfy1RXovjd"
      },
      "outputs": [],
      "source": [
        "df = pd.read_excel(\"real_estate_data.xlsx\", index_col = [0])"
      ]
    },
    {
      "attachments": {},
      "cell_type": "markdown",
      "metadata": {
        "id": "dMIaoLaIo_7f"
      },
      "source": [
        "#### Formateo de los nombres de las columnas para remover espacios"
      ]
    },
    {
      "cell_type": "code",
      "execution_count": 97,
      "metadata": {
        "id": "vJF2BefMo8uj"
      },
      "outputs": [],
      "source": [
        "def format_cols_spaces(columns):\n",
        "  return {key:key.replace(\" \",\"_\") for key in columns}"
      ]
    },
    {
      "cell_type": "code",
      "execution_count": 98,
      "metadata": {
        "id": "S0NJbWwQo-uK"
      },
      "outputs": [],
      "source": [
        "columns_replace = format_cols_spaces(df.columns)\n",
        "df = df.rename(columns = columns_replace)\n",
        "df_train = df[0:315]\n",
        "df_test = df[315:]"
      ]
    },
    {
      "attachments": {},
      "cell_type": "markdown",
      "metadata": {
        "id": "r5jwiIfwp3u1"
      },
      "source": [
        "### Creamos la clase NeuralNetwork"
      ]
    },
    {
      "cell_type": "code",
      "execution_count": 287,
      "metadata": {
        "id": "DutzLmDmp9Li"
      },
      "outputs": [],
      "source": [
        "class NeuralNetwork:\n",
        "  def __init__(self):\n",
        "\n",
        "    #Inicializacion de pesos\n",
        "    # set seed\n",
        "    np.random.seed(42)\n",
        "    self.W1 = np.random.random((5,6))\n",
        "    self.b1 = np.random.random((5,1))\n",
        "\n",
        "    self.W2 = np.random.random((1,5))\n",
        "    self.b2 = np.random.random((1,1))\n",
        "\n",
        "  def relu(self,X):\n",
        "    return np.maximum(0,X)\n",
        "\n",
        "  def sigmoid(self,X):\n",
        "    return 1/(1+np.exp(-X))\n",
        "\n",
        "  def forward(self, X):\n",
        "    zi = self.W1@X + self.b1\n",
        "    zi = self.sigmoid(zi)\n",
        "    y_hat = self.W2@zi + self.b2\n",
        "    return y_hat.T # y_hat.T es un vector columna\n",
        "  \n",
        "  def funcion_objetivo(self, X, y):\n",
        "    return 0.5*np.mean((self.forward(X) - y)**2)\n",
        "  \n",
        "  def numerical_gradient(self, x, y):\n",
        "        # Calcular el gradiente numérico\n",
        "        eps = 1e-4\n",
        "        grads = {}\n",
        "        for param_name in [\"W1\", \"b1\", \"W2\", \"b2\"]:\n",
        "            param = getattr(self, param_name)\n",
        "            grad = np.zeros_like(param)\n",
        "            it = np.nditer(param, flags=['multi_index'], op_flags=['readwrite'])\n",
        "            while not it.finished:\n",
        "                ix = it.multi_index\n",
        "                original_value = param[ix]\n",
        "                param[ix] = original_value + eps\n",
        "                grad_plus = self.funcion_objetivo(x,y)\n",
        "                param[ix] = original_value - eps\n",
        "                grad_minus = self.funcion_objetivo(x,y)\n",
        "                grad[ix] = (grad_plus - grad_minus) / (2 * eps)\n",
        "                param[ix] = original_value\n",
        "                it.iternext()\n",
        "            grads[param_name] = grad\n",
        "        return grads\n",
        "  \n",
        "#funcion fit y loop de entrenamiento\n",
        "  def fit(self,X, y, learning_rate=0.001, epochs=10000):\n",
        "      eps = 1e-3\n",
        "      loss_accum = []\n",
        "      for i in range(epochs):\n",
        "            gradients = self.numerical_gradient(X, y)\n",
        "\n",
        "            self.W1 -= learning_rate * gradients[0]\n",
        "            self.b1 -= learning_rate * gradients[1]\n",
        "            self.W2 -= learning_rate * gradients[2]\n",
        "            self.b2 -= learning_rate * gradients[3]\n",
        "\n",
        "            loss = self.funcion_objetivo(X, y)\n",
        "            loss_accum.append(loss)\n",
        "\n",
        "            print(f\"Epoch {i+1}/{epochs} - Loss: {loss}\")\n",
        "\n",
        "      return loss_accum\n",
        "\n"
      ]
    },
    {
      "cell_type": "code",
      "execution_count": 288,
      "metadata": {
        "id": "3LoBW2uEveDC"
      },
      "outputs": [],
      "source": [
        "neural_1 = NeuralNetwork()"
      ]
    },
    {
      "cell_type": "code",
      "execution_count": 101,
      "metadata": {
        "id": "jaq7Cukgs-Z9"
      },
      "outputs": [],
      "source": [
        "df_train_X = df_train.drop(['Y_house_price_of_unit_area'], axis = 1)\n",
        "df_train_y = df_train[['Y_house_price_of_unit_area']]"
      ]
    },
    {
      "cell_type": "code",
      "execution_count": 279,
      "metadata": {
        "id": "Hs2ueMUItwC9"
      },
      "outputs": [],
      "source": [
        "train_X_values = df_train_X.values.T\n",
        "train_y_values = df_train_y.values\n"
      ]
    },
    {
      "cell_type": "code",
      "execution_count": 291,
      "metadata": {},
      "outputs": [],
      "source": [
        "train_x_shorter = train_X_values[:,0:10]\n",
        "train_y_shorter = df_train_y.values[0:10]"
      ]
    },
    {
      "cell_type": "code",
      "execution_count": 289,
      "metadata": {},
      "outputs": [
        {
          "data": {
            "text/plain": [
              "{'W1': array([[0., 0., 0., 0., 0., 0.],\n",
              "        [0., 0., 0., 0., 0., 0.],\n",
              "        [0., 0., 0., 0., 0., 0.],\n",
              "        [0., 0., 0., 0., 0., 0.],\n",
              "        [0., 0., 0., 0., 0., 0.]]),\n",
              " 'b1': array([[0.],\n",
              "        [0.],\n",
              "        [0.],\n",
              "        [0.],\n",
              "        [0.]]),\n",
              " 'W2': array([[-35.65209936, -35.65209936, -35.65209936, -35.65209936,\n",
              "         -35.65209936]]),\n",
              " 'b2': array([[-35.65209936]])}"
            ]
          },
          "execution_count": 289,
          "metadata": {},
          "output_type": "execute_result"
        }
      ],
      "source": [
        "neural_1.numerical_gradient(train_X_values, train_y_values)"
      ]
    },
    {
      "cell_type": "code",
      "execution_count": 293,
      "metadata": {},
      "outputs": [
        {
          "name": "stdout",
          "output_type": "stream",
          "text": [
            "Epoch: 0, Loss: nan\n",
            "Epoch: 100, Loss: nan\n",
            "Epoch: 200, Loss: nan\n",
            "Epoch: 300, Loss: nan\n",
            "Epoch: 400, Loss: nan\n",
            "Epoch: 500, Loss: nan\n",
            "Epoch: 600, Loss: nan\n",
            "Epoch: 700, Loss: nan\n",
            "Epoch: 800, Loss: nan\n",
            "Epoch: 900, Loss: nan\n"
          ]
        },
        {
          "name": "stderr",
          "output_type": "stream",
          "text": [
            "/Library/Frameworks/Python.framework/Versions/3.10/lib/python3.10/site-packages/numpy/core/fromnumeric.py:3464: RuntimeWarning: Mean of empty slice.\n",
            "  return _methods._mean(a, axis=axis, dtype=dtype,\n",
            "/Library/Frameworks/Python.framework/Versions/3.10/lib/python3.10/site-packages/numpy/core/_methods.py:192: RuntimeWarning: invalid value encountered in scalar divide\n",
            "  ret = ret.dtype.type(ret / rcount)\n"
          ]
        }
      ],
      "source": [
        "neural_1.fit(train_x_shorter, train_y_shorter, 1000, 0.01)"
      ]
    },
    {
      "cell_type": "code",
      "execution_count": null,
      "metadata": {
        "id": "5VeaI_agk_F4"
      },
      "outputs": [],
      "source": [
        "def predict(x):\n",
        "        y =\n",
        "        return y"
      ]
    }
  ],
  "metadata": {
    "colab": {
      "provenance": []
    },
    "kernelspec": {
      "display_name": "Python 3",
      "name": "python3"
    },
    "language_info": {
      "codemirror_mode": {
        "name": "ipython",
        "version": 3
      },
      "file_extension": ".py",
      "mimetype": "text/x-python",
      "name": "python",
      "nbconvert_exporter": "python",
      "pygments_lexer": "ipython3",
      "version": "3.10.4"
    }
  },
  "nbformat": 4,
  "nbformat_minor": 0
}
