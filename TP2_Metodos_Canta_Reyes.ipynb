{
  "nbformat": 4,
  "nbformat_minor": 0,
  "metadata": {
    "colab": {
      "provenance": []
    },
    "kernelspec": {
      "name": "python3",
      "display_name": "Python 3"
    },
    "language_info": {
      "name": "python"
    }
  },
  "cells": [
    {
      "cell_type": "code",
      "execution_count": 1,
      "metadata": {
        "id": "guBKTtm8kJuA"
      },
      "outputs": [],
      "source": [
        "import numpy as np\n",
        "import pandas as pd\n",
        "import matplotlib.pyplot as plt"
      ]
    },
    {
      "cell_type": "markdown",
      "source": [
        "## Iniciamos con la lectura de los datos"
      ],
      "metadata": {
        "id": "I8wt5rgqowe0"
      }
    },
    {
      "cell_type": "code",
      "source": [
        "df = pd.read_excel(\"/content/real_estate_data.xlsx\", index_col = [0])"
      ],
      "metadata": {
        "id": "TWQfy1RXovjd"
      },
      "execution_count": 5,
      "outputs": []
    },
    {
      "cell_type": "markdown",
      "source": [
        "#### Formateo de los nombres de las columnas para remover espacios"
      ],
      "metadata": {
        "id": "dMIaoLaIo_7f"
      }
    },
    {
      "cell_type": "code",
      "source": [
        "def format_cols_spaces(columns):\n",
        "  return {key:key.replace(\" \",\"_\") for key in columns}"
      ],
      "metadata": {
        "id": "vJF2BefMo8uj"
      },
      "execution_count": 6,
      "outputs": []
    },
    {
      "cell_type": "code",
      "source": [
        "columns_replace = format_cols_spaces(df.columns)\n",
        "df = df.rename(columns = columns_replace)\n",
        "df_train = df[0:315]\n",
        "df_test = df[315:]"
      ],
      "metadata": {
        "id": "S0NJbWwQo-uK"
      },
      "execution_count": 11,
      "outputs": []
    },
    {
      "cell_type": "markdown",
      "source": [
        "### Creamos la clase NeuralNetwork"
      ],
      "metadata": {
        "id": "r5jwiIfwp3u1"
      }
    },
    {
      "cell_type": "code",
      "source": [
        "class NeuralNetwork:\n",
        "  def __init__(self):\n",
        "\n",
        "    #Inicializacion de pesos\n",
        "    self.W1 = np.random.random((5,6))\n",
        "    self.b1 = np.random.random((5,1))\n",
        "\n",
        "    self.W2 = np.random.random((1,5))\n",
        "    self.b2 = np.random.random((1,1))\n",
        "\n",
        "  def relu(self,X):\n",
        "    return max(0,X)\n",
        "\n",
        "  def sigmoid(self):\n",
        "    return 1/(1+np.exp(-X))\n",
        "\n",
        "  def forward(self, X):\n",
        "    zi = self.W1@X + self.b1\n",
        "    zi = self.sigmoid(zi)\n",
        "    return zi\n",
        "\n"
      ],
      "metadata": {
        "id": "DutzLmDmp9Li"
      },
      "execution_count": 15,
      "outputs": []
    },
    {
      "cell_type": "code",
      "source": [
        "neural_1 = NeuralNetwork()"
      ],
      "metadata": {
        "id": "3LoBW2uEveDC"
      },
      "execution_count": 34,
      "outputs": []
    },
    {
      "cell_type": "code",
      "source": [
        "df_train_X = df_train.drop(['Y_house_price_of_unit_area'], axis = 1)\n",
        "df_train_y = df_train[['Y_house_price_of_unit_area']]"
      ],
      "metadata": {
        "id": "jaq7Cukgs-Z9"
      },
      "execution_count": 17,
      "outputs": []
    },
    {
      "cell_type": "code",
      "source": [
        "train_X_values = df_train_X['X4_number_of_convenience_stores'].values.reshape(-1,1)\n"
      ],
      "metadata": {
        "id": "Hs2ueMUItwC9"
      },
      "execution_count": 31,
      "outputs": []
    },
    {
      "cell_type": "code",
      "source": [
        "neural_1.W1"
      ],
      "metadata": {
        "colab": {
          "base_uri": "https://localhost:8080/"
        },
        "id": "UcbJWW1pvKjo",
        "outputId": "8bf0305c-7fdd-4313-b007-536fbec5c527"
      },
      "execution_count": 35,
      "outputs": [
        {
          "output_type": "execute_result",
          "data": {
            "text/plain": [
              "array([[0.36683009, 0.6293502 , 0.99593657, 0.1497879 , 0.42186913,\n",
              "        0.31703935],\n",
              "       [0.21977489, 0.11666864, 0.22667617, 0.24038088, 0.68081279,\n",
              "        0.00422961],\n",
              "       [0.41527001, 0.01281552, 0.43195945, 0.96708445, 0.50210939,\n",
              "        0.73531882],\n",
              "       [0.23146256, 0.28133574, 0.60735583, 0.51874061, 0.76207903,\n",
              "        0.51337657],\n",
              "       [0.92474077, 0.72435093, 0.25056667, 0.33539024, 0.36360293,\n",
              "        0.20183351]])"
            ]
          },
          "metadata": {},
          "execution_count": 35
        }
      ]
    },
    {
      "cell_type": "code",
      "source": [
        "#Calculo del gradiente numerico\n",
        "\n",
        "def funcion_objetivo():\n",
        "    loss =\n",
        "    return loss\n",
        "\n",
        "def numerical_gradient():\n",
        "\n",
        "    gradiente =\n",
        "    return gradiente"
      ],
      "metadata": {
        "id": "izOZi0TZkqh6"
      },
      "execution_count": null,
      "outputs": []
    },
    {
      "cell_type": "code",
      "source": [
        "#funcion fit y loop de entrenamiento\n",
        "def fit(x, y, learning_rate=0.001, epochs=1000):\n",
        "    eps = 1e-3\n",
        "    loss_accum = []\n",
        "    for i in range(epochs):\n",
        "        numerical_gradient()\n",
        "\n",
        "    return loss_accum"
      ],
      "metadata": {
        "id": "DKaIhh10kw5X"
      },
      "execution_count": null,
      "outputs": []
    },
    {
      "cell_type": "code",
      "source": [
        "def predict(x):\n",
        "        y =\n",
        "        return y"
      ],
      "metadata": {
        "id": "5VeaI_agk_F4"
      },
      "execution_count": null,
      "outputs": []
    }
  ]
}